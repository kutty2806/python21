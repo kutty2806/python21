{
 "cells": [
  {
   "cell_type": "markdown",
   "id": "8f9f34eb",
   "metadata": {},
   "source": [
    "### Conditional Statements\n",
    "- if\n",
    "- elif\n",
    "- nested if"
   ]
  },
  {
   "cell_type": "code",
   "execution_count": 1,
   "id": "249d2128",
   "metadata": {},
   "outputs": [
    {
     "name": "stdout",
     "output_type": "stream",
     "text": [
      "a is greater than b\n"
     ]
    }
   ],
   "source": [
    "                                                                                                                                                                                                                                                                                                                                                                                                                                                                                                                                                                                                                                                                                                                                                                                                                                                                                                                                                                                                                                                                                                                                                                                                                                                                                                                                                                                                                                                                                                                                                                                                                                                                                                                                                                                                                                                                                                                                                                                                                                                                                                                                                                                                                                                                                                                                                                                                                                                                                                                                                                                                                                                                                                                                                                                                                                                                                                                                                                                                                                                                                                                                                                                                                                                                                                                                                                                                                                                                                                                                                                                                                                                                                                                                                                                                                                                                                                                                                                                                                                                                                                                                                                                                                                                                                                                                                                                                                                                                                                                                                                                                                                                                                                                                                                                                                                                                                                                                                                                                                                                                                                                                                                                                                                                                                                                                                                                                                                                                                                                                                                                                                                                                                                                                                                                                                                                                                                                                                                                                                                                                                                                                                                                                                                                                                                                                                                                                                                                                                                                                                                                                                                                                                                                                                                                                                                                                                                                                                                                                                                                                                                                                                                                                                                                                                                                                                                                                                                                                                                                                                                                                                                                                                                                                                                                                                                                                                                                                                                                                                                                                                                                                                                                                                                                                                                                                                                                                                                                                                                                                                                                                                                                                                                                                                                                                                                                                                                                                                                                                                                                                                                                                                                                                                                                                                                                                                                                                                                                                                                                                                                                                                                                                                                                                                                                                                                                                                                                                                                                                                                                                                                                                                                                                                                                                                                                                                                                                                                                                                                                                                                                                                                                                                                                                                                                                            a,b=22,11\n",
    "if(a>b):\n",
    "    print(\"a is greater than b\")\n",
    "else:\n",
    "    print(\"a is less than b\")"
   ]
  },
  {
   "cell_type": "code",
   "execution_count": 4,
   "id": "c957d637",
   "metadata": {},
   "outputs": [
    {
     "name": "stdout",
     "output_type": "stream",
     "text": [
      "enter 1st number: 43\n",
      "enter 2nd number: -33\n",
      "enter 3rd number: 65\n",
      "enter 4th number: 22\n",
      "65 is big number\n"
     ]
    }
   ],
   "source": [
    "n1 = int(input(\"enter 1st number: \")) # 5\n",
    "n2 = int(input(\"enter 2nd number: \")) # 33\n",
    "n3 = int(input(\"enter 3rd number: \")) # -22\n",
    "n4 = int(input(\"enter 4th number: \")) # 56\n",
    "if(n1>n2 and n1>n3 and n1>n4):\n",
    "    print(n1,\"is big number\")\n",
    "elif(n2>n1 and n2>n3 and n2>n4):\n",
    "    print(n2,\"is big number\")\n",
    "elif(n3>n1 and n3>n2 and n3>n4):\n",
    "    print(n3,\"is big number\")\n",
    "else:\n",
    "    print(n4,\"is big number\")"
   ]
  },
  {
   "cell_type": "markdown",
   "id": "8b26987a",
   "metadata": {},
   "source": [
    "## Nested if"
   ]
  },
  {
   "cell_type": "code",
   "execution_count": 10,
   "id": "396674d8",
   "metadata": {},
   "outputs": [
    {
     "name": "stdout",
     "output_type": "stream",
     "text": [
      "enter a number:100\n",
      "100 is even number\n"
     ]
    }
   ],
   "source": [
    "n = int(input(\"enter a number:\"))\n",
    "if(n == 100): # (45 == 45)\n",
    "    if(n%2 == 0):\n",
    "        print(n,\"is even number\")\n",
    "    if(n%2 != 0):\n",
    "        print(\"is odd number\")\n",
    "        \n",
    "else:\n",
    "    print(n,\"is not equal to 100\")\n",
    "    "
   ]
  },
  {
   "cell_type": "code",
   "execution_count": 3,
   "id": "01627fbf",
   "metadata": {},
   "outputs": [
    {
     "name": "stdout",
     "output_type": "stream",
     "text": [
      "Enter a number:34\n",
      "34 is even number\n"
     ]
    }
   ],
   "source": [
    "n = int(input(\"Enter a number:\"))\n",
    "if(n >= 0):\n",
    "    if(n%2 == 0):\n",
    "        print(n,\"is even number\")\n",
    "    elif(n%2 != 0):\n",
    "        print(n,\"is odd number\")\n",
    "else:\n",
    "    print(n,\"is not a positive number\")"
   ]
  },
  {
   "cell_type": "code",
   "execution_count": 5,
   "id": "8fc043b2",
   "metadata": {},
   "outputs": [
    {
     "name": "stdout",
     "output_type": "stream",
     "text": [
      "Enter a number:66\n"
     ]
    }
   ],
   "source": [
    "n = int(input(\"Enter a number:\"))\n",
    "if(n == 10): # (10 == 10)\n",
    "    if(n%2 == 0):\n",
    "        print(n,\"is even number\")\n",
    " \n",
    "    if(n%2 != 0):\n",
    "        print(n,\"is odd number\")"
   ]
  },
  {
   "cell_type": "markdown",
   "id": "51fecf62",
   "metadata": {},
   "source": [
    "## Looping statements"
   ]
  },
  {
   "cell_type": "markdown",
   "id": "10bcb890",
   "metadata": {},
   "source": [
    "#### A for loop is used for iterating over a sequence(list, tuple, dictionary, a set, or string)"
   ]
  },
  {
   "cell_type": "code",
   "execution_count": 6,
   "id": "36e039ee",
   "metadata": {},
   "outputs": [
    {
     "name": "stdout",
     "output_type": "stream",
     "text": [
      "0\n",
      "1\n",
      "2\n",
      "3\n",
      "4\n"
     ]
    }
   ],
   "source": [
    "for i in range(5): # 0 to n-1\n",
    "     print(i) "
   ]
  },
  {
   "cell_type": "code",
   "execution_count": 7,
   "id": "d181c7ff",
   "metadata": {},
   "outputs": [
    {
     "name": "stdout",
     "output_type": "stream",
     "text": [
      "1\n",
      "2\n",
      "3\n",
      "4\n"
     ]
    }
   ],
   "source": [
    "for i in range(1,5): #i=1,i=2,i=2+1,i= 3+1\n",
    "     print(i)"
   ]
  },
  {
   "cell_type": "code",
   "execution_count": 8,
   "id": "669c7f6d",
   "metadata": {},
   "outputs": [
    {
     "name": "stdout",
     "output_type": "stream",
     "text": [
      "1\n",
      "3\n",
      "5\n",
      "7\n",
      "9\n"
     ]
    }
   ],
   "source": [
    "for i in range(1,11,2):\n",
    "    print(i)"
   ]
  },
  {
   "cell_type": "code",
   "execution_count": 9,
   "id": "949c5538",
   "metadata": {},
   "outputs": [
    {
     "name": "stdout",
     "output_type": "stream",
     "text": [
      "2\n",
      "4\n",
      "6\n",
      "8\n",
      "10\n"
     ]
    }
   ],
   "source": [
    "for i in range(2,11,2):\n",
    "    print(i)"
   ]
  },
  {
   "cell_type": "code",
   "execution_count": 10,
   "id": "57606a48",
   "metadata": {},
   "outputs": [
    {
     "name": "stdout",
     "output_type": "stream",
     "text": [
      "10\n",
      "9\n",
      "8\n",
      "7\n",
      "6\n",
      "5\n",
      "4\n",
      "3\n",
      "2\n",
      "1\n"
     ]
    }
   ],
   "source": [
    "for i in range(10,0,-1):\n",
    "    print(i)"
   ]
  },
  {
   "cell_type": "code",
   "execution_count": 19,
   "id": "b6143558",
   "metadata": {},
   "outputs": [
    {
     "name": "stdout",
     "output_type": "stream",
     "text": [
      "10\n",
      "8\n",
      "6\n",
      "4\n",
      "2\n"
     ]
    }
   ],
   "source": [
    "for i in range(10,0,-2):\n",
    "    print(i)"
   ]
  },
  {
   "cell_type": "code",
   "execution_count": null,
   "id": "f9161d89",
   "metadata": {},
   "outputs": [],
   "source": []
  }
 ],
 "metadata": {
  "kernelspec": {
   "display_name": "Python 3",
   "language": "python",
   "name": "python3"
  },
  "language_info": {
   "codemirror_mode": {
    "name": "ipython",
    "version": 3
   },
   "file_extension": ".py",
   "mimetype": "text/x-python",
   "name": "python",
   "nbconvert_exporter": "python",
   "pygments_lexer": "ipython3",
   "version": "3.8.8"
  }
 },
 "nbformat": 4,
 "nbformat_minor": 5
}
