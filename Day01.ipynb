{
 "cells": [
  {
   "cell_type": "markdown",
   "id": "4e46ac07",
   "metadata": {},
   "source": [
    "# Heading1\n",
    "## Heading2\n",
    "### Heading3\n",
    "#### Heading4\n",
    "##### Heading5"
   ]
  },
  {
   "cell_type": "markdown",
   "id": "157ed4cc",
   "metadata": {},
   "source": [
    "**Bold**\n",
    "*ITALIC*\n",
    "***Bold And italic***"
   ]
  },
  {
   "cell_type": "markdown",
   "id": "1d322143",
   "metadata": {},
   "source": [
    "# comments in python"
   ]
  },
  {
   "cell_type": "markdown",
   "id": "12d641bc",
   "metadata": {},
   "source": [
    "### 1. single line comment\n",
    "### 2. multi line comment"
   ]
  },
  {
   "cell_type": "code",
   "execution_count": 1,
   "id": "2695c0c4",
   "metadata": {},
   "outputs": [
    {
     "name": "stdout",
     "output_type": "stream",
     "text": [
      "hello world\n"
     ]
    }
   ],
   "source": [
    "# single line comment\n",
    "\n",
    "\"\"\"\n",
    "multi\n",
    "line \n",
    "comment\n",
    "\n",
    "\"\"\"\n",
    "print(\"hello world\")"
   ]
  },
  {
   "cell_type": "code",
   "execution_count": 3,
   "id": "96e8f6f2",
   "metadata": {},
   "outputs": [
    {
     "name": "stdout",
     "output_type": "stream",
     "text": [
      " BTS  BTS  BTS  BTS  BTS  BTS  BTS \n"
     ]
    }
   ],
   "source": [
    "print(7* \" BTS \")"
   ]
  },
  {
   "cell_type": "code",
   "execution_count": 4,
   "id": "c38f4766",
   "metadata": {},
   "outputs": [
    {
     "name": "stdout",
     "output_type": "stream",
     "text": [
      "taehyung\n",
      "taehyung\n",
      "taehyung\n",
      "taehyung\n",
      "taehyung\n",
      "taehyung\n",
      "taehyung\n",
      "\n"
     ]
    }
   ],
   "source": [
    "print(\"taehyung\\n\"*7)"
   ]
  },
  {
   "cell_type": "code",
   "execution_count": 5,
   "id": "86f54077",
   "metadata": {},
   "outputs": [
    {
     "name": "stdout",
     "output_type": "stream",
     "text": [
      "jungkook\tjungkook\tjungkook\tjungkook\tjungkook\tjungkook\tjungkook\t\n"
     ]
    }
   ],
   "source": [
    "print(7* \"jungkook\\t\")"
   ]
  },
  {
   "cell_type": "markdown",
   "id": "f59b1d2f",
   "metadata": {},
   "source": [
    "## Variables"
   ]
  },
  {
   "cell_type": "markdown",
   "id": "e6773eae",
   "metadata": {},
   "source": [
    ". A python variable is a reserved memory location to store values"
   ]
  },
  {
   "cell_type": "code",
   "execution_count": 6,
   "id": "17333860",
   "metadata": {},
   "outputs": [
    {
     "name": "stdout",
     "output_type": "stream",
     "text": [
      "22\n",
      "22.0ety67\n"
     ]
    }
   ],
   "source": [
    "a=22\n",
    "print(a)\n",
    "print(\"22.0ety67\")"
   ]
  },
  {
   "cell_type": "code",
   "execution_count": 7,
   "id": "6d822944",
   "metadata": {},
   "outputs": [
    {
     "name": "stdout",
     "output_type": "stream",
     "text": [
      "4647\n"
     ]
    }
   ],
   "source": [
    "a=4647 # sinle variable assignment\n",
    "print(a)"
   ]
  },
  {
   "cell_type": "code",
   "execution_count": 8,
   "id": "9ab5329e",
   "metadata": {},
   "outputs": [
    {
     "name": "stdout",
     "output_type": "stream",
     "text": [
      "1 4 3\n",
      "***************\n",
      "1 \n",
      " 4 \n",
      " 3\n"
     ]
    }
   ],
   "source": [
    "b,t,s=1,4,3 # multi variable assignment\n",
    "print(b,t,s)\n",
    "print(\"***************\")\n",
    "print(b,'\\n',t,'\\n',s)"
   ]
  },
  {
   "cell_type": "markdown",
   "id": "ee394bc9",
   "metadata": {},
   "source": [
    "## Python keyword"
   ]
  },
  {
   "cell_type": "markdown",
   "id": "22fa06fc",
   "metadata": {},
   "source": [
    ". keywords are the reversed words in python.we cannot use a keyword as a variable name, function name or any other identifier. "
   ]
  },
  {
   "cell_type": "code",
   "execution_count": 9,
   "id": "4ae08a69",
   "metadata": {},
   "outputs": [
    {
     "name": "stdout",
     "output_type": "stream",
     "text": [
      "['False', 'None', 'True', 'and', 'as', 'assert', 'async', 'await', 'break', 'class', 'continue', 'def', 'del', 'elif', 'else', 'except', 'finally', 'for', 'from', 'global', 'if', 'import', 'in', 'is', 'lambda', 'nonlocal', 'not', 'or', 'pass', 'raise', 'return', 'try', 'while', 'with', 'yield']\n"
     ]
    }
   ],
   "source": [
    "import keyword\n",
    "print(keyword.kwlist)"
   ]
  },
  {
   "cell_type": "code",
   "execution_count": 13,
   "id": "e253459f",
   "metadata": {},
   "outputs": [
    {
     "name": "stdout",
     "output_type": "stream",
     "text": [
      "35\n"
     ]
    }
   ],
   "source": [
    "l = keyword.kwlist\n",
    "print(len(l))"
   ]
  },
  {
   "cell_type": "code",
   "execution_count": 14,
   "id": "cdeb050f",
   "metadata": {},
   "outputs": [
    {
     "name": "stdout",
     "output_type": "stream",
     "text": [
      "['False', 'None', 'True', 'and', 'as', 'assert', 'async', 'await', 'break', 'class', 'continue', 'def', 'del', 'elif', 'else', 'except', 'finally', 'for', 'from', 'global', 'if', 'import', 'in', 'is', 'lambda', 'nonlocal', 'not', 'or', 'pass', 'raise', 'return', 'try', 'while', 'with', 'yield']\n",
      "35\n"
     ]
    }
   ],
   "source": [
    "import keyword\n",
    "print(keyword.kwlist)\n",
    "l = keyword.kwlist\n",
    "print(len(l))"
   ]
  },
  {
   "cell_type": "code",
   "execution_count": null,
   "id": "a8282c41",
   "metadata": {},
   "outputs": [],
   "source": []
  }
 ],
 "metadata": {
  "kernelspec": {
   "display_name": "Python 3",
   "language": "python",
   "name": "python3"
  },
  "language_info": {
   "codemirror_mode": {
    "name": "ipython",
    "version": 3
   },
   "file_extension": ".py",
   "mimetype": "text/x-python",
   "name": "python",
   "nbconvert_exporter": "python",
   "pygments_lexer": "ipython3",
   "version": "3.8.8"
  }
 },
 "nbformat": 4,
 "nbformat_minor": 5
}
