{
 "cells": [
  {
   "cell_type": "markdown",
   "id": "b0d0ce43",
   "metadata": {},
   "source": [
    "### DATA TYPES AND CONVERSIONS"
   ]
  },
  {
   "cell_type": "markdown",
   "id": "e1bb6369",
   "metadata": {},
   "source": [
    "int float string"
   ]
  },
  {
   "cell_type": "code",
   "execution_count": 1,
   "id": "43fa2f42",
   "metadata": {},
   "outputs": [
    {
     "data": {
      "text/plain": [
       "int"
      ]
     },
     "execution_count": 1,
     "metadata": {},
     "output_type": "execute_result"
    }
   ],
   "source": [
    "n1=14\n",
    "type(n1)"
   ]
  },
  {
   "cell_type": "code",
   "execution_count": 2,
   "id": "bc52cb29",
   "metadata": {},
   "outputs": [
    {
     "name": "stdout",
     "output_type": "stream",
     "text": [
      "18\n"
     ]
    },
    {
     "data": {
      "text/plain": [
       "int"
      ]
     },
     "execution_count": 2,
     "metadata": {},
     "output_type": "execute_result"
    }
   ],
   "source": [
    "n1=18\n",
    "print(n1)\n",
    "type(n1)"
   ]
  },
  {
   "cell_type": "code",
   "execution_count": 3,
   "id": "4c2c3e1a",
   "metadata": {},
   "outputs": [
    {
     "name": "stdout",
     "output_type": "stream",
     "text": [
      "n1= 19.75\n"
     ]
    },
    {
     "data": {
      "text/plain": [
       "float"
      ]
     },
     "execution_count": 3,
     "metadata": {},
     "output_type": "execute_result"
    }
   ],
   "source": [
    "n2 = 19.75\n",
    "print(\"n1=\",n2)\n",
    "type(n2)"
   ]
  },
  {
   "cell_type": "code",
   "execution_count": 4,
   "id": "5ae77c08",
   "metadata": {},
   "outputs": [
    {
     "name": "stdout",
     "output_type": "stream",
     "text": [
      "n3= BTS\n"
     ]
    },
    {
     "data": {
      "text/plain": [
       "str"
      ]
     },
     "execution_count": 4,
     "metadata": {},
     "output_type": "execute_result"
    }
   ],
   "source": [
    "n3= \"BTS\"\n",
    "print(\"n3=\",n3)\n",
    "type(n3)"
   ]
  },
  {
   "cell_type": "code",
   "execution_count": 5,
   "id": "878fe283",
   "metadata": {},
   "outputs": [
    {
     "name": "stdout",
     "output_type": "stream",
     "text": [
      "<class 'int'>\n",
      "<class 'int'>\n"
     ]
    }
   ],
   "source": [
    "n= 3\n",
    "p= 4\n",
    "print(type(n))\n",
    "print(type(p))"
   ]
  },
  {
   "cell_type": "code",
   "execution_count": 6,
   "id": "8ef90b80",
   "metadata": {},
   "outputs": [
    {
     "name": "stdout",
     "output_type": "stream",
     "text": [
      "<class 'int'>\n",
      "<class 'str'>\n"
     ]
    }
   ],
   "source": [
    "n=56 # int to string conversion\n",
    "print(type(n))\n",
    "print(type(str(n)))"
   ]
  },
  {
   "cell_type": "code",
   "execution_count": 7,
   "id": "1df81968",
   "metadata": {},
   "outputs": [
    {
     "name": "stdout",
     "output_type": "stream",
     "text": [
      "<class 'str'>\n"
     ]
    }
   ],
   "source": [
    "a=4\n",
    "s=str(a)\n",
    "print(type(s))"
   ]
  },
  {
   "cell_type": "code",
   "execution_count": 8,
   "id": "436ed912",
   "metadata": {},
   "outputs": [
    {
     "name": "stdout",
     "output_type": "stream",
     "text": [
      "3344\n"
     ]
    }
   ],
   "source": [
    "num1= \"33\"\n",
    "num2= \"44\"\n",
    "print(num1+num2)"
   ]
  },
  {
   "cell_type": "code",
   "execution_count": 9,
   "id": "769874b3",
   "metadata": {},
   "outputs": [
    {
     "name": "stdout",
     "output_type": "stream",
     "text": [
      "BTSgirl\n"
     ]
    }
   ],
   "source": [
    "s1= \"BTS\"\n",
    "s2= \"girl\"\n",
    "print(s1+s2)"
   ]
  },
  {
   "cell_type": "code",
   "execution_count": 11,
   "id": "29c0f463",
   "metadata": {},
   "outputs": [
    {
     "name": "stdout",
     "output_type": "stream",
     "text": [
      "4.03.0\n"
     ]
    }
   ],
   "source": [
    "n1= \"4.0\"\n",
    "n2= \"3.0\"\n",
    "print(n1+n2)"
   ]
  },
  {
   "cell_type": "markdown",
   "id": "1de9e6bf",
   "metadata": {},
   "source": [
    "### Indentation"
   ]
  },
  {
   "cell_type": "code",
   "execution_count": 18,
   "id": "e730452c",
   "metadata": {},
   "outputs": [
    {
     "name": "stdout",
     "output_type": "stream",
     "text": [
      "n1 is less than n2\n"
     ]
    }
   ],
   "source": [
    "n1,n2 = 33,45\n",
    "if(n1<n2):\n",
    "    print(\"n1 is less than n2\")"
   ]
  },
  {
   "cell_type": "code",
   "execution_count": 19,
   "id": "c43102a4",
   "metadata": {},
   "outputs": [
    {
     "name": "stdout",
     "output_type": "stream",
     "text": [
      "n1 is greater than n2\n"
     ]
    }
   ],
   "source": [
    "n1,n2 = 34,33\n",
    "if(n1>n2):\n",
    "    print(\"n1 is greater than n2\")"
   ]
  },
  {
   "cell_type": "code",
   "execution_count": 22,
   "id": "48845c75",
   "metadata": {},
   "outputs": [
    {
     "name": "stdout",
     "output_type": "stream",
     "text": [
      "n1 is small number\n"
     ]
    }
   ],
   "source": [
    "n1,n2 = 23,26\n",
    "if(n1<n2):\n",
    "    print(\"n1 is small number\")\n",
    "else:\n",
    "    print(\"n1 is big number\")"
   ]
  },
  {
   "cell_type": "markdown",
   "id": "1ad8a72f",
   "metadata": {},
   "source": [
    "### Reading input dynamically"
   ]
  },
  {
   "cell_type": "code",
   "execution_count": 23,
   "id": "321ac7a1",
   "metadata": {},
   "outputs": [
    {
     "name": "stdout",
     "output_type": "stream",
     "text": [
      "420\n",
      "420\n",
      "<class 'str'>\n"
     ]
    }
   ],
   "source": [
    "x = input()\n",
    "print(x)\n",
    "print(type(x))\n"
   ]
  },
  {
   "cell_type": "code",
   "execution_count": 27,
   "id": "995018e3",
   "metadata": {},
   "outputs": [
    {
     "name": "stdout",
     "output_type": "stream",
     "text": [
      "enter a value:64.55\n",
      "64.55\n",
      "<class 'float'>\n"
     ]
    }
   ],
   "source": [
    "f = float(input(\"enter a value:\"))\n",
    "print(f)\n",
    "print(type(f))"
   ]
  },
  {
   "cell_type": "code",
   "execution_count": 1,
   "id": "eabff021",
   "metadata": {},
   "outputs": [
    {
     "name": "stdout",
     "output_type": "stream",
     "text": [
      "enter a value:3455\n",
      "3455\n",
      "<class 'int'>\n"
     ]
    }
   ],
   "source": [
    "n = int(input(\"enter a value:\"))\n",
    "print(n)\n",
    "print(type(n))\n"
   ]
  },
  {
   "cell_type": "markdown",
   "id": "11a3830b",
   "metadata": {},
   "source": [
    "### Operators\n",
    "1. Arithmetic operators\n",
    "2. Assignment operators\n",
    "3. Comparison  operators\n",
    "4. Logical operators\n",
    "5. Identity operators\n",
    "6. Membership operators\n",
    "7. Bitwise operators\n"
   ]
  },
  {
   "cell_type": "markdown",
   "id": "752ce444",
   "metadata": {},
   "source": [
    "## 1. Arithmetic operators"
   ]
  },
  {
   "cell_type": "markdown",
   "id": "86ccf0b2",
   "metadata": {},
   "source": [
    "#### +,-,*,/,%,**,//"
   ]
  },
  {
   "cell_type": "code",
   "execution_count": 2,
   "id": "44557d89",
   "metadata": {},
   "outputs": [
    {
     "name": "stdout",
     "output_type": "stream",
     "text": [
      "a+b = 10\n",
      "a-b = -2\n",
      "a*b = 24\n",
      "a/b = 0.6666666666666666\n",
      "a%b = 4\n",
      "a//b = 0\n",
      "a**b = 4096\n"
     ]
    }
   ],
   "source": [
    "a,b = 4,6\n",
    "print(\"a+b =\",4+6)\n",
    "print(\"a-b =\",4-6)\n",
    "print(\"a*b =\",4*6)\n",
    "print(\"a/b =\",4/6)\n",
    "print(\"a%b =\",4%6)\n",
    "print(\"a//b =\",4//6)\n",
    "print(\"a**b =\",4**6) # 4*4*4*4*4*4"
   ]
  },
  {
   "cell_type": "markdown",
   "id": "0b2f888e",
   "metadata": {},
   "source": [
    "## 2. Assignment operator"
   ]
  },
  {
   "cell_type": "markdown",
   "id": "58315135",
   "metadata": {},
   "source": [
    "### =,+=,-=,*= etc.,"
   ]
  },
  {
   "cell_type": "code",
   "execution_count": 8,
   "id": "84666f32",
   "metadata": {},
   "outputs": [
    {
     "name": "stdout",
     "output_type": "stream",
     "text": [
      "12\n"
     ]
    }
   ],
   "source": [
    "a = 12\n",
    "print(a)"
   ]
  },
  {
   "cell_type": "code",
   "execution_count": 9,
   "id": "00dd3481",
   "metadata": {},
   "outputs": [
    {
     "name": "stdout",
     "output_type": "stream",
     "text": [
      "13\n"
     ]
    }
   ],
   "source": [
    "a += 1 # a = a+1\n",
    "print(a)"
   ]
  },
  {
   "cell_type": "code",
   "execution_count": 10,
   "id": "93670de4",
   "metadata": {},
   "outputs": [
    {
     "data": {
      "text/plain": [
       "13"
      ]
     },
     "execution_count": 10,
     "metadata": {},
     "output_type": "execute_result"
    }
   ],
   "source": [
    "a"
   ]
  },
  {
   "cell_type": "code",
   "execution_count": 11,
   "id": "94e535b8",
   "metadata": {},
   "outputs": [
    {
     "name": "stdout",
     "output_type": "stream",
     "text": [
      "11\n"
     ]
    }
   ],
   "source": [
    "a -= 2 # a=a-2\n",
    "print(a)"
   ]
  },
  {
   "cell_type": "markdown",
   "id": "a8148aed",
   "metadata": {},
   "source": [
    "## 3. Comparison operator"
   ]
  },
  {
   "cell_type": "markdown",
   "id": "3dd3ad09",
   "metadata": {},
   "source": [
    "### ==,>,<,>=,<=,!="
   ]
  },
  {
   "cell_type": "code",
   "execution_count": 12,
   "id": "44bf0145",
   "metadata": {},
   "outputs": [
    {
     "name": "stdout",
     "output_type": "stream",
     "text": [
      "False\n",
      "True\n"
     ]
    }
   ],
   "source": [
    "n1,n2 = 5,3\n",
    "print(n1==n2)\n",
    "print(n1 != n2)"
   ]
  },
  {
   "cell_type": "markdown",
   "id": "783a6d90",
   "metadata": {},
   "source": [
    "## 4. Logical operators"
   ]
  },
  {
   "cell_type": "markdown",
   "id": "d76ce5ab",
   "metadata": {},
   "source": [
    "#### and, or ,not"
   ]
  },
  {
   "cell_type": "code",
   "execution_count": 13,
   "id": "3cac6883",
   "metadata": {},
   "outputs": [
    {
     "name": "stdout",
     "output_type": "stream",
     "text": [
      "True\n",
      "True\n"
     ]
    }
   ],
   "source": [
    "a = 5\n",
    "print(a<6 and a>2)\n",
    "print(a<6 or a>2)"
   ]
  },
  {
   "cell_type": "code",
   "execution_count": 14,
   "id": "fedce332",
   "metadata": {},
   "outputs": [
    {
     "name": "stdout",
     "output_type": "stream",
     "text": [
      "False\n"
     ]
    }
   ],
   "source": [
    "res = a<6 or a>2\n",
    "print(not(res))\n"
   ]
  },
  {
   "cell_type": "markdown",
   "id": "d99b64d9",
   "metadata": {},
   "source": [
    "## 5. Identity operator"
   ]
  },
  {
   "cell_type": "markdown",
   "id": "0de83d71",
   "metadata": {},
   "source": [
    "#### is , is not"
   ]
  },
  {
   "cell_type": "code",
   "execution_count": 15,
   "id": "67d1db3d",
   "metadata": {},
   "outputs": [
    {
     "name": "stdout",
     "output_type": "stream",
     "text": [
      "False\n"
     ]
    }
   ],
   "source": [
    "x,y = 5,3\n",
    "print(x is y)"
   ]
  },
  {
   "cell_type": "code",
   "execution_count": 16,
   "id": "3acbc7ce",
   "metadata": {},
   "outputs": [
    {
     "name": "stdout",
     "output_type": "stream",
     "text": [
      "True\n"
     ]
    }
   ],
   "source": [
    "print(x is not y)"
   ]
  },
  {
   "cell_type": "code",
   "execution_count": 17,
   "id": "7b4444e4",
   "metadata": {},
   "outputs": [
    {
     "name": "stdout",
     "output_type": "stream",
     "text": [
      "True\n",
      "False\n"
     ]
    }
   ],
   "source": [
    "a,b = 5,5\n",
    "print(a is b)\n",
    "print(a is not b)"
   ]
  },
  {
   "cell_type": "markdown",
   "id": "255ccece",
   "metadata": {},
   "source": [
    "## 6. Membership operator"
   ]
  },
  {
   "cell_type": "markdown",
   "id": "2f3ffe09",
   "metadata": {},
   "source": [
    "#### in, not in"
   ]
  },
  {
   "cell_type": "code",
   "execution_count": 18,
   "id": "7d0d74cd",
   "metadata": {},
   "outputs": [
    {
     "name": "stdout",
     "output_type": "stream",
     "text": [
      "True\n"
     ]
    }
   ],
   "source": [
    "fruits = [\"apple\",\"gova\",\"grapes\"]\n",
    "print('apple' in fruits)"
   ]
  },
  {
   "cell_type": "code",
   "execution_count": 19,
   "id": "647d6554",
   "metadata": {},
   "outputs": [
    {
     "name": "stdout",
     "output_type": "stream",
     "text": [
      "False\n"
     ]
    }
   ],
   "source": [
    "print('banana' in fruits)\n"
   ]
  },
  {
   "cell_type": "code",
   "execution_count": 20,
   "id": "c29c5d51",
   "metadata": {},
   "outputs": [
    {
     "name": "stdout",
     "output_type": "stream",
     "text": [
      "True\n"
     ]
    }
   ],
   "source": [
    "print('banana' not in fruits)"
   ]
  },
  {
   "cell_type": "markdown",
   "id": "00b52a48",
   "metadata": {},
   "source": [
    "## 7. Bitwise operator"
   ]
  },
  {
   "cell_type": "markdown",
   "id": "751f1bd0",
   "metadata": {},
   "source": [
    "#### &,|,^,>>,<<,~"
   ]
  },
  {
   "cell_type": "code",
   "execution_count": 22,
   "id": "79f0748b",
   "metadata": {},
   "outputs": [
    {
     "name": "stdout",
     "output_type": "stream",
     "text": [
      "Enter 1st value: 4\n",
      "Enter 2nd value: 8\n"
     ]
    },
    {
     "data": {
      "text/plain": [
       "0"
      ]
     },
     "execution_count": 22,
     "metadata": {},
     "output_type": "execute_result"
    }
   ],
   "source": [
    "a = int(input(\"Enter 1st value: \"))\n",
    "b = int(input(\"Enter 2nd value: \"))\n",
    "a & b "
   ]
  },
  {
   "cell_type": "code",
   "execution_count": 23,
   "id": "e9790947",
   "metadata": {},
   "outputs": [
    {
     "data": {
      "text/plain": [
       "12"
      ]
     },
     "execution_count": 23,
     "metadata": {},
     "output_type": "execute_result"
    }
   ],
   "source": [
    "a|b"
   ]
  },
  {
   "cell_type": "code",
   "execution_count": 24,
   "id": "c3171c0b",
   "metadata": {},
   "outputs": [
    {
     "name": "stdout",
     "output_type": "stream",
     "text": [
      "-5\n"
     ]
    }
   ],
   "source": [
    "print(~4)"
   ]
  },
  {
   "cell_type": "code",
   "execution_count": 25,
   "id": "ada134e0",
   "metadata": {},
   "outputs": [
    {
     "name": "stdout",
     "output_type": "stream",
     "text": [
      "True\n",
      "False\n",
      "True\n"
     ]
    }
   ],
   "source": [
    "print(0.1*5==0.5)\n",
    "print(0.1*7==0.7)\n",
    "print(0.1*9==0.9)\n"
   ]
  },
  {
   "cell_type": "code",
   "execution_count": 26,
   "id": "a8975a3f",
   "metadata": {},
   "outputs": [
    {
     "name": "stdout",
     "output_type": "stream",
     "text": [
      "False\n"
     ]
    }
   ],
   "source": [
    "print((0.1)*3 == (0.3))"
   ]
  },
  {
   "cell_type": "code",
   "execution_count": 27,
   "id": "de96ca9c",
   "metadata": {},
   "outputs": [
    {
     "data": {
      "text/plain": [
       "0.30000000000000004"
      ]
     },
     "execution_count": 27,
     "metadata": {},
     "output_type": "execute_result"
    }
   ],
   "source": [
    "(0.1)*3"
   ]
  },
  {
   "cell_type": "code",
   "execution_count": 29,
   "id": "f94583f1",
   "metadata": {},
   "outputs": [
    {
     "data": {
      "text/plain": [
       "0.9"
      ]
     },
     "execution_count": 29,
     "metadata": {},
     "output_type": "execute_result"
    }
   ],
   "source": [
    "0.1*9"
   ]
  },
  {
   "cell_type": "code",
   "execution_count": null,
   "id": "9e2bab07",
   "metadata": {},
   "outputs": [],
   "source": []
  }
 ],
 "metadata": {
  "kernelspec": {
   "display_name": "Python 3",
   "language": "python",
   "name": "python3"
  },
  "language_info": {
   "codemirror_mode": {
    "name": "ipython",
    "version": 3
   },
   "file_extension": ".py",
   "mimetype": "text/x-python",
   "name": "python",
   "nbconvert_exporter": "python",
   "pygments_lexer": "ipython3",
   "version": "3.8.8"
  }
 },
 "nbformat": 4,
 "nbformat_minor": 5
}
